{
  "nbformat": 4,
  "nbformat_minor": 0,
  "metadata": {
    "colab": {
      "provenance": [],
      "authorship_tag": "ABX9TyM/pVIsF0DFLrTB2U+6mkoa",
      "include_colab_link": true
    },
    "kernelspec": {
      "name": "python3",
      "display_name": "Python 3"
    },
    "language_info": {
      "name": "python"
    }
  },
  "cells": [
    {
      "cell_type": "markdown",
      "metadata": {
        "id": "view-in-github",
        "colab_type": "text"
      },
      "source": [
        "<a href=\"https://colab.research.google.com/github/KharchenkoAnastasia/sql/blob/main/SQL.ipynb\" target=\"_parent\"><img src=\"https://colab.research.google.com/assets/colab-badge.svg\" alt=\"Open In Colab\"/></a>"
      ]
    },
    {
      "cell_type": "code",
      "execution_count": 1,
      "metadata": {
        "id": "tEijJ9KOxfzo",
        "colab": {
          "base_uri": "https://localhost:8080/"
        },
        "outputId": "7cbd0d49-0529-46e5-d101-d10e0d15aa0d"
      },
      "outputs": [
        {
          "output_type": "stream",
          "name": "stdout",
          "text": [
            "  Preparing metadata (setup.py) ... \u001b[?25l\u001b[?25hdone\n",
            "  Building wheel for pandasql (setup.py) ... \u001b[?25l\u001b[?25hdone\n"
          ]
        }
      ],
      "source": [
        "!pip install -q pandasql\n"
      ]
    },
    {
      "cell_type": "code",
      "source": [
        "import pandas as pd\n",
        "import pandasql as psql\n"
      ],
      "metadata": {
        "id": "Shvfl6wexht9"
      },
      "execution_count": 2,
      "outputs": []
    },
    {
      "cell_type": "code",
      "source": [
        "df = pd.read_csv('/content/ds_salaries.csv')\n",
        "df.columns"
      ],
      "metadata": {
        "colab": {
          "base_uri": "https://localhost:8080/"
        },
        "id": "ObIWIz6GSlNb",
        "outputId": "6a89d062-0974-450d-87df-a5d7b8bfd18b"
      },
      "execution_count": 3,
      "outputs": [
        {
          "output_type": "execute_result",
          "data": {
            "text/plain": [
              "Index(['work_year', 'experience_level', 'employment_type', 'job_title',\n",
              "       'salary', 'salary_currency', 'salary_in_usd', 'employee_residence',\n",
              "       'remote_ratio', 'company_location', 'company_size'],\n",
              "      dtype='object')"
            ]
          },
          "metadata": {},
          "execution_count": 3
        }
      ]
    },
    {
      "cell_type": "code",
      "source": [
        "df.columns=[\"year\",\"exp_level\",\"emp_type\",\"job_title\", \"salary\", \"salary_curr\",\"salary_in_usd\",\"emp_location\", \"remote_ratio\", \"company_location\", \"company_size\"]"
      ],
      "metadata": {
        "id": "b2pi3POxxxhL"
      },
      "execution_count": 4,
      "outputs": []
    },
    {
      "cell_type": "code",
      "source": [
        "query = \"\"\"\n",
        "SELECT\n",
        "    year\n",
        "    , job_title\n",
        "    , remote_ratio\n",
        "    , salary_in_usd\n",
        "FROM df\n",
        "WHERE\n",
        "    remote_ratio == 100\n",
        "ORDER BY 4 DESC\n",
        "----LIMIT 5\n",
        "\"\"\"\n",
        "result = psql.sqldf(query)\n",
        "print(result)\n"
      ],
      "metadata": {
        "colab": {
          "base_uri": "https://localhost:8080/"
        },
        "id": "Rsff7yxNx2kh",
        "outputId": "66d2a114-63b7-4cbe-c296-11abd8956d8b"
      },
      "execution_count": 5,
      "outputs": [
        {
          "output_type": "stream",
          "name": "stdout",
          "text": [
            "      year                 job_title  remote_ratio  salary_in_usd\n",
            "0     2021  Principal Data Scientist           100         416000\n",
            "1     2020            Data Scientist           100         412000\n",
            "2     2022       Data Analytics Lead           100         405000\n",
            "3     2022    Applied Data Scientist           100         380000\n",
            "4     2023            Data Architect           100         376080\n",
            "...    ...                       ...           ...            ...\n",
            "1638  2022           BI Data Analyst           100           6270\n",
            "1639  2020      Product Data Analyst           100           6072\n",
            "1640  2022              Data Analyst           100           5723\n",
            "1641  2021            Data Scientist           100           5679\n",
            "1642  2022              NLP Engineer           100           5132\n",
            "\n",
            "[1643 rows x 4 columns]\n"
          ]
        }
      ]
    },
    {
      "cell_type": "markdown",
      "source": [
        "#**Lesson 5 Пишемо SELECT, додаємо функції, агрегації та CASE WHEN**\n",
        "\n",
        "\n",
        "\n"
      ],
      "metadata": {
        "id": "ikpl3XMsZvEY"
      }
    },
    {
      "cell_type": "code",
      "source": [
        "query = \"\"\"\n",
        "SELECT\n",
        "    exp_level\n",
        "  --  , salary_in_usd\n",
        "   -- , salary_in_usd * 38\n",
        "    , CASE\n",
        "      WHEN exp_level = 'SE'\n",
        "      THEN \"Senior\"\n",
        "      WHEN exp_level = 'MI'\n",
        "      THEN \"Middle\"\n",
        "      ELSE 'Othere' END AS FULL_level\n",
        "\n",
        "FROM df\n",
        "\"\"\"\n",
        "result = psql.sqldf(query)\n",
        "print(result)"
      ],
      "metadata": {
        "colab": {
          "base_uri": "https://localhost:8080/"
        },
        "id": "ACzYIbYDRu-X",
        "outputId": "c11a0742-f85d-4b63-b497-b239aaa3614b"
      },
      "execution_count": 6,
      "outputs": [
        {
          "output_type": "stream",
          "name": "stdout",
          "text": [
            "     exp_level FULL_level\n",
            "0           SE     Senior\n",
            "1           MI     Middle\n",
            "2           MI     Middle\n",
            "3           SE     Senior\n",
            "4           SE     Senior\n",
            "...        ...        ...\n",
            "3750        SE     Senior\n",
            "3751        MI     Middle\n",
            "3752        EN     Othere\n",
            "3753        EN     Othere\n",
            "3754        SE     Senior\n",
            "\n",
            "[3755 rows x 2 columns]\n"
          ]
        }
      ]
    },
    {
      "cell_type": "markdown",
      "source": [
        " 1. Вивести кількість унікальних значень для кожної колонки,\n",
        "що містить текстові значення."
      ],
      "metadata": {
        "id": "MNmBvRMNaai1"
      }
    },
    {
      "cell_type": "code",
      "source": [
        "query = \"\"\"\n",
        "SELECT\n",
        "    COUNT(DISTINCT job_title)\n",
        "FROM df\n",
        "\"\"\"\n",
        "result = psql.sqldf(query)\n",
        "print(result)"
      ],
      "metadata": {
        "colab": {
          "base_uri": "https://localhost:8080/"
        },
        "id": "y9Ry5yQFTk7v",
        "outputId": "2fe2c8d5-d697-4987-babb-ead56ef483e3"
      },
      "execution_count": 7,
      "outputs": [
        {
          "output_type": "stream",
          "name": "stdout",
          "text": [
            "   COUNT(DISTINCT job_title)\n",
            "0                         93\n"
          ]
        }
      ]
    },
    {
      "cell_type": "markdown",
      "source": [
        "2. Вивести унікальні значення для кожної колонки, що містить текстові значення"
      ],
      "metadata": {
        "id": "KEIb7Aifabg0"
      }
    },
    {
      "cell_type": "code",
      "source": [
        "query = \"\"\"\n",
        "SELECT DISTINCT job_title\n",
        "FROM df\n",
        "\"\"\"\n",
        "result = psql.sqldf(query)\n",
        "print(result)"
      ],
      "metadata": {
        "colab": {
          "base_uri": "https://localhost:8080/"
        },
        "id": "sl1Y1Dg1aeWw",
        "outputId": "33c3e1d1-e7c5-4f4b-c032-15de2fb0cde8"
      },
      "execution_count": 8,
      "outputs": [
        {
          "output_type": "stream",
          "name": "stdout",
          "text": [
            "                   job_title\n",
            "0   Principal Data Scientist\n",
            "1                ML Engineer\n",
            "2             Data Scientist\n",
            "3          Applied Scientist\n",
            "4               Data Analyst\n",
            "..                       ...\n",
            "88  Head of Machine Learning\n",
            "89    Principal Data Analyst\n",
            "90   Principal Data Engineer\n",
            "91      Staff Data Scientist\n",
            "92      Finance Data Analyst\n",
            "\n",
            "[93 rows x 1 columns]\n"
          ]
        }
      ]
    },
    {
      "cell_type": "markdown",
      "source": [
        "3. Вивести середню, мінімальну та максимальну з/п (salary_in_usd) для кожного року (окремими запитами, в кожному з яких впроваджено фільтр відповідного року)"
      ],
      "metadata": {
        "id": "ZSbcwMaobmTD"
      }
    },
    {
      "cell_type": "code",
      "source": [
        "query = \"\"\"\n",
        "SELECT\n",
        "    ROUND(AVG(salary_in_usd),0) AS avg_salary\n",
        "    , MAX(salary_in_usd)        AS max_salary\n",
        "    , MIN(salary_in_usd)        AS min_salary\n",
        "FROM df\n",
        "WHERE year='2021';\n",
        "\"\"\"\n",
        "result = psql.sqldf(query)\n",
        "print(result)"
      ],
      "metadata": {
        "colab": {
          "base_uri": "https://localhost:8080/"
        },
        "id": "my63gsYMbl_7",
        "outputId": "37234d8d-680a-41ef-f166-aaf75be45ccc"
      },
      "execution_count": 9,
      "outputs": [
        {
          "output_type": "stream",
          "name": "stdout",
          "text": [
            "   avg_salary  max_salary  min_salary\n",
            "0     94087.0      423000        5409\n"
          ]
        }
      ]
    },
    {
      "cell_type": "markdown",
      "source": [
        "4. Вивести середню з/п (salary_in_usd) для 2023 року по кожному рівню досвіду працівників (окремими запитами, в кожному з яких впроваджено фільтр року та досвіду)."
      ],
      "metadata": {
        "id": "dQ4oyAY-dBxb"
      }
    },
    {
      "cell_type": "code",
      "source": [
        "query = \"\"\"\n",
        "SELECT\n",
        "    exp_level\n",
        "    , ROUND (AVG(salary_in_usd),0) AS avg_salary\n",
        "\n",
        "FROM df\n",
        "WHERE year = '2023'\n",
        "GROUP BY exp_level;\n",
        "\"\"\"\n",
        "result = psql.sqldf(query)\n",
        "print(result)"
      ],
      "metadata": {
        "colab": {
          "base_uri": "https://localhost:8080/"
        },
        "id": "hFcG6q4wdA0a",
        "outputId": "35092c9b-d139-4ba9-cc40-e567256b4f55"
      },
      "execution_count": 10,
      "outputs": [
        {
          "output_type": "stream",
          "name": "stdout",
          "text": [
            "  exp_level  avg_salary\n",
            "0        EN     95284.0\n",
            "1        EX    203706.0\n",
            "2        MI    116298.0\n",
            "3        SE    159569.0\n"
          ]
        }
      ]
    },
    {
      "cell_type": "code",
      "source": [
        "query = \"\"\"\n",
        "SELECT ROUND(AVG(salary_in_usd),0)\tAS avg_salary\n",
        "FROM df\n",
        "WHERE year = 2023\n",
        "\n",
        "\"\"\"\n",
        "result = psql.sqldf(query)\n",
        "print(result)"
      ],
      "metadata": {
        "colab": {
          "base_uri": "https://localhost:8080/"
        },
        "id": "Otl4qHKmfd7l",
        "outputId": "dbcb9d22-0533-4d2c-838f-170104cbcbfd"
      },
      "execution_count": 11,
      "outputs": [
        {
          "output_type": "stream",
          "name": "stdout",
          "text": [
            "   avg_salary\n",
            "0    149046.0\n"
          ]
        }
      ]
    },
    {
      "cell_type": "code",
      "source": [
        "(95284.0+203706.0+ 116298.0+159569.0)/4"
      ],
      "metadata": {
        "colab": {
          "base_uri": "https://localhost:8080/"
        },
        "id": "_AlXgFp9gC24",
        "outputId": "5d491abf-565a-4b76-db23-8bcaab1f3c76"
      },
      "execution_count": 12,
      "outputs": [
        {
          "output_type": "execute_result",
          "data": {
            "text/plain": [
              "143714.25"
            ]
          },
          "metadata": {},
          "execution_count": 12
        }
      ]
    },
    {
      "cell_type": "code",
      "source": [
        "query = \"\"\"\n",
        "SELECT\n",
        "    exp_level\n",
        "    , ROUND(AVG(salary_in_usd), 0) AS avg_salary\n",
        "    , COUNT(*) AS record_count\n",
        "    , SUM(salary_in_usd) AS total_salary\n",
        "FROM df\n",
        "WHERE year = '2023'\n",
        "GROUP BY exp_level;\n",
        "\"\"\"\n",
        "\n",
        "result = psql.sqldf(query)\n",
        "print(result)"
      ],
      "metadata": {
        "colab": {
          "base_uri": "https://localhost:8080/"
        },
        "id": "1p38twAyhMyD",
        "outputId": "86af413a-966c-41c3-b30e-09b0e9f79dfd"
      },
      "execution_count": 13,
      "outputs": [
        {
          "output_type": "stream",
          "name": "stdout",
          "text": [
            "  exp_level  avg_salary  record_count  total_salary\n",
            "0        EN     95284.0           118      11243508\n",
            "1        EX    203706.0            60      12222341\n",
            "2        MI    116298.0           320      37215231\n",
            "3        SE    159569.0          1287     205365211\n"
          ]
        }
      ]
    },
    {
      "cell_type": "markdown",
      "source": [
        "5. Вивести 5 найвищих заробітних плат в 2023 році для представників спеціальності ML Engineer. Заробітні плати перевести в гривні."
      ],
      "metadata": {
        "id": "Jti39geijD2d"
      }
    },
    {
      "cell_type": "code",
      "source": [
        "query = \"\"\"\n",
        "SELECT\n",
        "    salary_in_usd * 38 as salary_in_uah\n",
        "FROM df\n",
        "WHERE year = '2023' AND \"job_title\" = \"ML Engineer\"\n",
        "ORDER BY salary_in_usd DESC\n",
        "LIMIT 5;\n",
        "\"\"\"\n",
        "\n",
        "result = psql.sqldf(query)\n",
        "print(result)"
      ],
      "metadata": {
        "colab": {
          "base_uri": "https://localhost:8080/"
        },
        "id": "RJor8jSKjNuC",
        "outputId": "921b3650-4ec7-49a7-fed3-99273a2609ee"
      },
      "execution_count": 14,
      "outputs": [
        {
          "output_type": "stream",
          "name": "stdout",
          "text": [
            "   salary_in_uah\n",
            "0       10984888\n",
            "1        9880000\n",
            "2        8895800\n",
            "3        8360000\n",
            "4        7733000\n"
          ]
        }
      ]
    },
    {
      "cell_type": "markdown",
      "source": [
        "6. Вивести Унікальні значення колонки remote_ratio, формат даних має бути дробовим з двома знаками після коми, приклад: значення 50 має відображатись в форматі 0.50"
      ],
      "metadata": {
        "id": "D9m7Z1fqjMmc"
      }
    },
    {
      "cell_type": "code",
      "source": [
        "query = \"\"\"\n",
        "SELECT\n",
        "    DISTINCT ROUND((remote_ratio)/100.0,2) AS remote_ratio_round\n",
        "FROM df\n",
        "\"\"\"\n",
        "\n",
        "result = psql.sqldf(query)\n",
        "print(result)"
      ],
      "metadata": {
        "colab": {
          "base_uri": "https://localhost:8080/"
        },
        "id": "GTg06PJMkLSk",
        "outputId": "04774f64-129a-46fd-b614-c948749ed4f7"
      },
      "execution_count": 15,
      "outputs": [
        {
          "output_type": "stream",
          "name": "stdout",
          "text": [
            "   remote_ratio_round\n",
            "0                 1.0\n",
            "1                 0.0\n",
            "2                 0.5\n"
          ]
        }
      ]
    },
    {
      "cell_type": "markdown",
      "source": [
        "7. Вивести дані таблиці, додавши колонку 'exp_level_full' з повною назвою рівнів досвіду працівників відповідно до колонки exp_level. Визначення: Entry-level (EN), Mid-level (MI), Senior-level (SE), Executive-level (EX)"
      ],
      "metadata": {
        "id": "IQ6oC0yTm5iC"
      }
    },
    {
      "cell_type": "code",
      "source": [
        "query = \"\"\"\n",
        "SELECT\n",
        "    exp_level\n",
        "    , CASE\n",
        "       WHEN exp_level = 'EN' THEN 'Entry-level'\n",
        "       WHEN exp_level = 'MI' THEN 'Mid-level'\n",
        "       WHEN exp_level = 'SE' THEN 'Senior-level '\n",
        "       WHEN 'EX' THEN 'Executive-level'\n",
        "       ELSE 'Othere' END AS exp_level_full\n",
        "FROM df\n",
        "\"\"\"\n",
        "\n",
        "result = psql.sqldf(query)\n",
        "print(result)"
      ],
      "metadata": {
        "colab": {
          "base_uri": "https://localhost:8080/"
        },
        "id": "K7GbpFE5m4DC",
        "outputId": "8829a0ea-ce64-464b-c14e-f83957a23ad4"
      },
      "execution_count": 16,
      "outputs": [
        {
          "output_type": "stream",
          "name": "stdout",
          "text": [
            "     exp_level exp_level_full\n",
            "0           SE  Senior-level \n",
            "1           MI      Mid-level\n",
            "2           MI      Mid-level\n",
            "3           SE  Senior-level \n",
            "4           SE  Senior-level \n",
            "...        ...            ...\n",
            "3750        SE  Senior-level \n",
            "3751        MI      Mid-level\n",
            "3752        EN    Entry-level\n",
            "3753        EN    Entry-level\n",
            "3754        SE  Senior-level \n",
            "\n",
            "[3755 rows x 2 columns]\n"
          ]
        }
      ]
    },
    {
      "cell_type": "markdown",
      "source": [
        "8. Додатки колонку \"salary_category', яка буде відображати різні категорії заробітних плат відповідно до їх значення в колонці 'salary_in_usd'. Визначення: з/п менша за 20 000 - Категорія 1, з/п менша за 50 000 - Категорія 2, з/п менша за 100 000 - Категорія 3, з/п більша за 100 000 - Категорія 4"
      ],
      "metadata": {
        "id": "oM7bodf6oCPe"
      }
    },
    {
      "cell_type": "code",
      "source": [
        "query = \"\"\"\n",
        "SELECT *\n",
        "       , CASE\n",
        "          WHEN salary_in_usd <= 20000 THEN \"category 1\"\n",
        "          WHEN salary_in_usd <= 50000 THEN \"category 2\"\n",
        "          WHEN salary_in_usd <= 100000 THEN \"category 3\"\n",
        "          ELSE \"category 4\" END AS salary_category\n",
        "FROM df\n",
        "LIMIT 100;\n",
        "\"\"\"\n",
        "\n",
        "result = psql.sqldf(query)\n",
        "print(result)"
      ],
      "metadata": {
        "colab": {
          "base_uri": "https://localhost:8080/"
        },
        "id": "DGurx6AgnHV1",
        "outputId": "ea667a1a-74c0-4f15-fe76-79d11b054120"
      },
      "execution_count": 17,
      "outputs": [
        {
          "output_type": "stream",
          "name": "stdout",
          "text": [
            "    year exp_level emp_type                  job_title  salary salary_curr  \\\n",
            "0   2023        SE       FT   Principal Data Scientist   80000         EUR   \n",
            "1   2023        MI       CT                ML Engineer   30000         USD   \n",
            "2   2023        MI       CT                ML Engineer   25500         USD   \n",
            "3   2023        SE       FT             Data Scientist  175000         USD   \n",
            "4   2023        SE       FT             Data Scientist  120000         USD   \n",
            "..   ...       ...      ...                        ...     ...         ...   \n",
            "95  2023        EN       FT  Machine Learning Engineer  163196         USD   \n",
            "96  2023        EN       FT  Machine Learning Engineer  145885         USD   \n",
            "97  2023        SE       FT              Data Engineer  217000         USD   \n",
            "98  2023        SE       FT              Data Engineer  185000         USD   \n",
            "99  2023        SE       FT               Data Analyst  202800         USD   \n",
            "\n",
            "    salary_in_usd emp_location  remote_ratio company_location company_size  \\\n",
            "0           85847           ES           100               ES            L   \n",
            "1           30000           US           100               US            S   \n",
            "2           25500           US           100               US            S   \n",
            "3          175000           CA           100               CA            M   \n",
            "4          120000           CA           100               CA            M   \n",
            "..            ...          ...           ...              ...          ...   \n",
            "95         163196           US             0               US            M   \n",
            "96         145885           US             0               US            M   \n",
            "97         217000           US           100               US            M   \n",
            "98         185000           US           100               US            M   \n",
            "99         202800           US             0               US            L   \n",
            "\n",
            "   salary_category  \n",
            "0       category 3  \n",
            "1       category 2  \n",
            "2       category 2  \n",
            "3       category 4  \n",
            "4       category 4  \n",
            "..             ...  \n",
            "95      category 4  \n",
            "96      category 4  \n",
            "97      category 4  \n",
            "98      category 4  \n",
            "99      category 4  \n",
            "\n",
            "[100 rows x 12 columns]\n"
          ]
        }
      ]
    },
    {
      "cell_type": "markdown",
      "source": [
        "9. Дослідити всі колонки на наявність відсутніх значень, порівнявши кількість рядків таблиці з кількістю значень відповідної колонки"
      ],
      "metadata": {
        "id": "fsZWb8vdqhKL"
      }
    },
    {
      "cell_type": "code",
      "source": [
        "query = \"\"\"\n",
        "SELECT\n",
        "      COUNT(*)      AS total_numb\n",
        "      , COUNT(job_title) AS count_categ\n",
        "      , COUNT(*) - COUNT(job_title) AS null_nmb\n",
        "FROM df\n",
        "\"\"\"\n",
        "\n",
        "result = psql.sqldf(query)\n",
        "print(result)"
      ],
      "metadata": {
        "colab": {
          "base_uri": "https://localhost:8080/"
        },
        "id": "Pxon4yZKpy4e",
        "outputId": "f8436ee1-80c1-4f20-bac6-9867b5f0665e"
      },
      "execution_count": 18,
      "outputs": [
        {
          "output_type": "stream",
          "name": "stdout",
          "text": [
            "   total_numb  count_categ  null_nmb\n",
            "0        3755         3755         0\n"
          ]
        }
      ]
    },
    {
      "cell_type": "markdown",
      "source": [
        "10. Порахувати кількість працівників в таблиці, які в 2023 році працюють на компанії розміру \"М\" і отримують з/п вищу за $100 000"
      ],
      "metadata": {
        "id": "oDEB6MPaqmx2"
      }
    },
    {
      "cell_type": "code",
      "source": [
        "query = \"\"\"\n",
        "SELECT COUNT(*)\n",
        "FROM salaries\n",
        "WHERE 1=1\n",
        "\tAND year = '2023'\n",
        "\tAND company_size = 'M'\n",
        "\tAND salary_in_usd >= 100000;\n",
        "\"\"\"\n",
        "\n",
        "#result = psql.sqldf(query)\n",
        "#print(result)"
      ],
      "metadata": {
        "id": "FJXZy0d4qklc"
      },
      "execution_count": 19,
      "outputs": []
    },
    {
      "cell_type": "markdown",
      "source": [
        "# **Lessons 6 ТОП 10 задач SQL для СПІВБЕСІДИ - легкий рівень (sql практикум для дата-аналітиків)**"
      ],
      "metadata": {
        "id": "Wh2BJG_j2SfZ"
      }
    },
    {
      "cell_type": "code",
      "source": [
        "df.columns"
      ],
      "metadata": {
        "id": "L40sG22E3Hef",
        "colab": {
          "base_uri": "https://localhost:8080/"
        },
        "outputId": "e65e0c7e-f696-43ef-a7d3-e02bac4a8805"
      },
      "execution_count": 20,
      "outputs": [
        {
          "output_type": "execute_result",
          "data": {
            "text/plain": [
              "Index(['year', 'exp_level', 'emp_type', 'job_title', 'salary', 'salary_curr',\n",
              "       'salary_in_usd', 'emp_location', 'remote_ratio', 'company_location',\n",
              "       'company_size'],\n",
              "      dtype='object')"
            ]
          },
          "metadata": {},
          "execution_count": 20
        }
      ]
    },
    {
      "cell_type": "markdown",
      "source": [
        "1. Вивести з/п спеціалістів ML Engineer в 2023 році, додати сортування за зростанням з/п."
      ],
      "metadata": {
        "id": "KfacEBBw4yV_"
      }
    },
    {
      "cell_type": "code",
      "source": [
        "query = \"\"\"\n",
        "SELECT\n",
        "    salary_in_usd AS salary\n",
        "    , year\n",
        "    , job_title\n",
        "FROM df\n",
        "WHERE\n",
        "      year = 2023\n",
        "      AND job_title = 'ML Engineer'\n",
        "ORDER BY salary_in_usd ASC\n",
        "LIMIT 10;\n",
        "\"\"\"\n",
        "\n",
        "result = psql.sqldf(query)\n",
        "print(result)"
      ],
      "metadata": {
        "id": "v3pF69Ki2ogb",
        "colab": {
          "base_uri": "https://localhost:8080/"
        },
        "outputId": "82dfbb7e-c3ab-475d-cdba-c0e1119903b1"
      },
      "execution_count": 21,
      "outputs": [
        {
          "output_type": "stream",
          "name": "stdout",
          "text": [
            "   salary  year    job_title\n",
            "0   25500  2023  ML Engineer\n",
            "1   30000  2023  ML Engineer\n",
            "2  110000  2023  ML Engineer\n",
            "3  135000  2023  ML Engineer\n",
            "4  147000  2023  ML Engineer\n",
            "5  150000  2023  ML Engineer\n",
            "6  160000  2023  ML Engineer\n",
            "7  200000  2023  ML Engineer\n",
            "8  202353  2023  ML Engineer\n",
            "9  203500  2023  ML Engineer\n"
          ]
        }
      ]
    },
    {
      "cell_type": "markdown",
      "source": [
        "2. Назвати країну (company_location),\n",
        "в якій зафіксована найменша з/п спеціаліста в сфері Data Scientist в 2023 році"
      ],
      "metadata": {
        "id": "2wCFJyFL409_"
      }
    },
    {
      "cell_type": "code",
      "source": [
        "query = \"\"\"\n",
        "SELECT\n",
        "      company_location\n",
        "      , salary_in_usd\n",
        "      , job_title\n",
        "      , year\n",
        "FROM df\n",
        "WHERE\n",
        "      year = 2023\n",
        "      AND job_title = \"Data Scientist\"\n",
        "ORDER BY 2 ASC\n",
        "LIMIT 1;\n",
        "\"\"\"\n",
        "\n",
        "result = psql.sqldf(query)\n",
        "print(result)"
      ],
      "metadata": {
        "id": "WHMfCShh4BL3",
        "colab": {
          "base_uri": "https://localhost:8080/"
        },
        "outputId": "798be47e-4242-4189-e6b7-7dfbb218ba24"
      },
      "execution_count": 22,
      "outputs": [
        {
          "output_type": "stream",
          "name": "stdout",
          "text": [
            "  company_location  salary_in_usd       job_title  year\n",
            "0               IN           9727  Data Scientist  2023\n"
          ]
        }
      ]
    },
    {
      "cell_type": "markdown",
      "source": [
        "3. Вивести топ 5 з/п серед усіх спеціалістів, які працюють повністю віддалено (remote_ratio = 100)"
      ],
      "metadata": {
        "id": "Hwzgt8op48Rw"
      }
    },
    {
      "cell_type": "code",
      "source": [
        "query = \"\"\"\n",
        "SELECT\n",
        "      job_title\n",
        "      , salary_in_usd\n",
        "FROM df\n",
        "WHERE remote_ratio = 100\n",
        "ORDER BY 2 DESC\n",
        "LIMIT 5;\n",
        "\"\"\"\n",
        "\n",
        "result = psql.sqldf(query)\n",
        "print(result)"
      ],
      "metadata": {
        "id": "m9UZuNFX4-bM",
        "colab": {
          "base_uri": "https://localhost:8080/"
        },
        "outputId": "d64ff746-4947-4d70-e4e6-6dcb872f62bd"
      },
      "execution_count": 23,
      "outputs": [
        {
          "output_type": "stream",
          "name": "stdout",
          "text": [
            "                  job_title  salary_in_usd\n",
            "0  Principal Data Scientist         416000\n",
            "1            Data Scientist         412000\n",
            "2       Data Analytics Lead         405000\n",
            "3    Applied Data Scientist         380000\n",
            "4            Data Architect         376080\n"
          ]
        }
      ]
    },
    {
      "cell_type": "markdown",
      "source": [
        "5. Вивести кількість унікальних значень колонки"
      ],
      "metadata": {
        "id": "7MM1_N8C5p0_"
      }
    },
    {
      "cell_type": "code",
      "source": [
        "query = \"\"\"\n",
        "SELECT COUNT(DISTINCT company_location)\n",
        "FROM df\n",
        "\"\"\"\n",
        "\n",
        "result = psql.sqldf(query)\n",
        "print(result)"
      ],
      "metadata": {
        "id": "NhVU7XSN5sQZ",
        "colab": {
          "base_uri": "https://localhost:8080/"
        },
        "outputId": "abe8cc31-7b02-4b34-e277-9150c8c10f8f"
      },
      "execution_count": 24,
      "outputs": [
        {
          "output_type": "stream",
          "name": "stdout",
          "text": [
            "   COUNT(DISTINCT company_location)\n",
            "0                                72\n"
          ]
        }
      ]
    },
    {
      "cell_type": "markdown",
      "source": [
        "6. Вивести середню, мінімальну та максимальну з/п (salary_in_usd) для 2023 року."
      ],
      "metadata": {
        "id": "xuqvN-nE6IbV"
      }
    },
    {
      "cell_type": "code",
      "source": [
        "query = \"\"\"\n",
        "SELECT\n",
        "    ROUND(AVG(salary_in_usd),2) AS AVG\n",
        "    , MIN(salary_in_usd) AS MIN\n",
        "    , MAX(salary_in_usd) AS MAX\n",
        "FROM df\n",
        "WHERE year = 2023\n",
        "\"\"\"\n",
        "\n",
        "result = psql.sqldf(query)\n",
        "print(result)"
      ],
      "metadata": {
        "id": "4Fh9ROgQ6Hxb",
        "colab": {
          "base_uri": "https://localhost:8080/"
        },
        "outputId": "dea0dd51-6b17-489d-c962-a917b97d2486"
      },
      "execution_count": 25,
      "outputs": [
        {
          "output_type": "stream",
          "name": "stdout",
          "text": [
            "         AVG   MIN     MAX\n",
            "0  149045.54  7000  423834\n"
          ]
        }
      ]
    },
    {
      "cell_type": "markdown",
      "source": [
        "7. Вивести 5 найвищих заробітних плат в 2023 році для представників спеціальності\n",
        "ML Engineer. Заробітні плати перевести в гривні."
      ],
      "metadata": {
        "id": "B-Nn-kmE7A52"
      }
    },
    {
      "cell_type": "code",
      "source": [
        "query = \"\"\"\n",
        "SELECT\n",
        "     salary_in_usd * 38\n",
        "     , job_title\n",
        "FROM df\n",
        "WHERE\n",
        "      year = 2023\n",
        "      AND job_title = 'ML Engineer'\n",
        "ORDER BY 1 DESC\n",
        "LIMIT 5\n",
        "\"\"\"\n",
        "\n",
        "result = psql.sqldf(query)\n",
        "print(result)"
      ],
      "metadata": {
        "id": "XVizFh4B7BqK",
        "colab": {
          "base_uri": "https://localhost:8080/"
        },
        "outputId": "12e2f568-0dc6-4583-97c1-39bbbfb75504"
      },
      "execution_count": 26,
      "outputs": [
        {
          "output_type": "stream",
          "name": "stdout",
          "text": [
            "   salary_in_usd * 38    job_title\n",
            "0            10984888  ML Engineer\n",
            "1             9880000  ML Engineer\n",
            "2             8895800  ML Engineer\n",
            "3             8360000  ML Engineer\n",
            "4             7733000  ML Engineer\n"
          ]
        }
      ]
    },
    {
      "cell_type": "markdown",
      "source": [
        "# **Lessons 7. Фільтри даних**"
      ],
      "metadata": {
        "id": "UEWOlMmc94SF"
      }
    },
    {
      "cell_type": "code",
      "source": [
        "query = \"\"\"\n",
        "SELECT DISTINCT(year)\n",
        "FROM df\n",
        "WHERE 1=1\n",
        "  AND YEAR\n",
        "LIMIT 20;\n",
        "\"\"\"\n",
        "\n",
        "result = psql.sqldf(query)\n",
        "print(result)"
      ],
      "metadata": {
        "id": "tLoC0j-v98LE",
        "colab": {
          "base_uri": "https://localhost:8080/"
        },
        "outputId": "281bd4db-ed6a-4512-c120-0b25e5287613"
      },
      "execution_count": 27,
      "outputs": [
        {
          "output_type": "stream",
          "name": "stdout",
          "text": [
            "   year\n",
            "0  2023\n",
            "1  2022\n",
            "2  2020\n",
            "3  2021\n"
          ]
        }
      ]
    },
    {
      "cell_type": "markdown",
      "source": [
        " Вивести всіх співробітників, які в 2023 отримували з/п більшу за $300тис."
      ],
      "metadata": {
        "id": "WOVuqrVN321Z"
      }
    },
    {
      "cell_type": "code",
      "source": [
        "query = \"\"\"\n",
        "SELECT\n",
        "      job_title\n",
        "      , salary_in_usd\n",
        "FROM df\n",
        "WHERE\n",
        "      salary_in_usd >= 300000\n",
        "      AND year = 2023\n",
        "\"\"\"\n",
        "\n",
        "result = psql.sqldf(query)\n",
        "print(result)"
      ],
      "metadata": {
        "colab": {
          "base_uri": "https://localhost:8080/"
        },
        "id": "NMx0UT-y34Vs",
        "outputId": "0dc56f6c-c0be-46a7-9726-8e62c8f4139c"
      },
      "execution_count": 28,
      "outputs": [
        {
          "output_type": "stream",
          "name": "stdout",
          "text": [
            "                    job_title  salary_in_usd\n",
            "0    Computer Vision Engineer         342810\n",
            "1           Applied Scientist         309400\n",
            "2   Machine Learning Engineer         342300\n",
            "3   Machine Learning Engineer         318300\n",
            "4           Applied Scientist         309400\n",
            "5   Machine Learning Engineer         300000\n",
            "6                Head of Data         329500\n",
            "7   Machine Learning Engineer         304000\n",
            "8    Director of Data Science         353200\n",
            "9              Data Scientist         317070\n",
            "10               AI Scientist         423834\n",
            "11             Data Architect         376080\n",
            "12         Research Scientist         340000\n",
            "13              Data Engineer         310000\n",
            "14              Data Engineer         310000\n",
            "15             Data Scientist         300240\n",
            "16             Data Scientist         300240\n",
            "17             Data Scientist         370000\n",
            "18  Machine Learning Engineer         323300\n",
            "19              Data Engineer         310000\n",
            "20  Machine Learning Engineer         318300\n",
            "21               Data Analyst         385000\n",
            "22         Research Scientist         370000\n",
            "23       Head of Data Science         314100\n",
            "24          Applied Scientist         350000\n",
            "25              Data Engineer         310000\n",
            "26              Data Engineer         300000\n",
            "27              Data Engineer         300000\n",
            "28             Data Scientist         300000\n",
            "29              Data Engineer         310000\n"
          ]
        }
      ]
    },
    {
      "cell_type": "markdown",
      "source": [
        "2.Вивести всіх співробітників, які в 2023 отримували з/п більшу за $300тис. та не працювали в великих компаніях."
      ],
      "metadata": {
        "id": "NVdfapqC4qZp"
      }
    },
    {
      "cell_type": "code",
      "source": [
        "query = \"\"\"\n",
        "SELECT\n",
        "      job_title\n",
        "      , salary_in_usd\n",
        "FROM df\n",
        "WHERE\n",
        "      salary_in_usd >= 300000\n",
        "      AND year = 2023\n",
        "\"\"\"\n",
        "\n",
        "result = psql.sqldf(query)\n",
        "print(result)"
      ],
      "metadata": {
        "id": "w6qzuYU44tsy",
        "colab": {
          "base_uri": "https://localhost:8080/"
        },
        "outputId": "98a0d9e3-d799-415d-adb1-42acd8d79ae7"
      },
      "execution_count": 29,
      "outputs": [
        {
          "output_type": "stream",
          "name": "stdout",
          "text": [
            "                    job_title  salary_in_usd\n",
            "0    Computer Vision Engineer         342810\n",
            "1           Applied Scientist         309400\n",
            "2   Machine Learning Engineer         342300\n",
            "3   Machine Learning Engineer         318300\n",
            "4           Applied Scientist         309400\n",
            "5   Machine Learning Engineer         300000\n",
            "6                Head of Data         329500\n",
            "7   Machine Learning Engineer         304000\n",
            "8    Director of Data Science         353200\n",
            "9              Data Scientist         317070\n",
            "10               AI Scientist         423834\n",
            "11             Data Architect         376080\n",
            "12         Research Scientist         340000\n",
            "13              Data Engineer         310000\n",
            "14              Data Engineer         310000\n",
            "15             Data Scientist         300240\n",
            "16             Data Scientist         300240\n",
            "17             Data Scientist         370000\n",
            "18  Machine Learning Engineer         323300\n",
            "19              Data Engineer         310000\n",
            "20  Machine Learning Engineer         318300\n",
            "21               Data Analyst         385000\n",
            "22         Research Scientist         370000\n",
            "23       Head of Data Science         314100\n",
            "24          Applied Scientist         350000\n",
            "25              Data Engineer         310000\n",
            "26              Data Engineer         300000\n",
            "27              Data Engineer         300000\n",
            "28             Data Scientist         300000\n",
            "29              Data Engineer         310000\n"
          ]
        }
      ]
    },
    {
      "cell_type": "markdown",
      "source": [
        "Як виглядає розподіл кількості спеціалістів по країнах проживання?"
      ],
      "metadata": {
        "id": "WbrEewuGSTZj"
      }
    },
    {
      "cell_type": "code",
      "source": [
        "query = \"\"\"\n",
        "SELECT *\n",
        "FROM df\n",
        "WHERE\n",
        "    salary_in_usd >= 300000\n",
        "    AND year = 2023\n",
        "    AND company_size = 'M'\n",
        "\"\"\"\n",
        "\n",
        "result = psql.sqldf(query)\n",
        "print(result)"
      ],
      "metadata": {
        "colab": {
          "base_uri": "https://localhost:8080/"
        },
        "id": "uGr0u8XvSUWK",
        "outputId": "95a40746-eac3-4b12-ffd7-7968933672af"
      },
      "execution_count": 30,
      "outputs": [
        {
          "output_type": "stream",
          "name": "stdout",
          "text": [
            "    year exp_level emp_type                  job_title  salary salary_curr  \\\n",
            "0   2023        SE       FT   Computer Vision Engineer  342810         USD   \n",
            "1   2023        SE       FT  Machine Learning Engineer  318300         USD   \n",
            "2   2023        MI       FT  Machine Learning Engineer  300000         USD   \n",
            "3   2023        EX       FT               Head of Data  329500         USD   \n",
            "4   2023        SE       FT  Machine Learning Engineer  304000         USD   \n",
            "5   2023        EX       FT   Director of Data Science  353200         USD   \n",
            "6   2023        SE       FT             Data Scientist  317070         USD   \n",
            "7   2023        SE       FT             Data Architect  376080         USD   \n",
            "8   2023        MI       FT         Research Scientist  340000         USD   \n",
            "9   2023        EX       FT              Data Engineer  310000         USD   \n",
            "10  2023        EX       FT              Data Engineer  310000         USD   \n",
            "11  2023        SE       FT             Data Scientist  300240         USD   \n",
            "12  2023        SE       FT             Data Scientist  300240         USD   \n",
            "13  2023        SE       FT             Data Scientist  370000         USD   \n",
            "14  2023        SE       FT  Machine Learning Engineer  323300         USD   \n",
            "15  2023        EX       FT              Data Engineer  310000         USD   \n",
            "16  2023        SE       FT  Machine Learning Engineer  318300         USD   \n",
            "17  2023        SE       FT               Data Analyst  385000         USD   \n",
            "18  2023        SE       FT         Research Scientist  370000         USD   \n",
            "19  2023        EX       FT       Head of Data Science  314100         USD   \n",
            "20  2023        EX       FT              Data Engineer  310000         USD   \n",
            "21  2023        SE       FT              Data Engineer  300000         USD   \n",
            "22  2023        SE       FT              Data Engineer  300000         USD   \n",
            "23  2023        EX       FT             Data Scientist  300000         USD   \n",
            "24  2023        SE       FT              Data Engineer  310000         USD   \n",
            "\n",
            "    salary_in_usd emp_location  remote_ratio company_location company_size  \n",
            "0          342810           US             0               US            M  \n",
            "1          318300           US           100               US            M  \n",
            "2          300000           US             0               US            M  \n",
            "3          329500           US             0               US            M  \n",
            "4          304000           US           100               US            M  \n",
            "5          353200           US             0               US            M  \n",
            "6          317070           US             0               US            M  \n",
            "7          376080           US           100               US            M  \n",
            "8          340000           US           100               US            M  \n",
            "9          310000           US           100               US            M  \n",
            "10         310000           US           100               US            M  \n",
            "11         300240           US             0               US            M  \n",
            "12         300240           US             0               US            M  \n",
            "13         370000           US             0               US            M  \n",
            "14         323300           US             0               US            M  \n",
            "15         310000           US           100               US            M  \n",
            "16         318300           US           100               US            M  \n",
            "17         385000           US             0               US            M  \n",
            "18         370000           US             0               US            M  \n",
            "19         314100           US             0               US            M  \n",
            "20         310000           US           100               US            M  \n",
            "21         300000           US             0               US            M  \n",
            "22         300000           US             0               US            M  \n",
            "23         300000           US             0               US            M  \n",
            "24         310000           US             0               US            M  \n"
          ]
        }
      ]
    },
    {
      "cell_type": "markdown",
      "source": [
        "3. Чи є співробітники, які працювали на Українську компанію повністю віддалено"
      ],
      "metadata": {
        "id": "fsKbhZjc5Y0F"
      }
    },
    {
      "cell_type": "code",
      "source": [
        "df.columns"
      ],
      "metadata": {
        "colab": {
          "base_uri": "https://localhost:8080/"
        },
        "id": "BQnBMuaM5aqp",
        "outputId": "48fd5ace-e588-48a8-e883-163d3f0eec44"
      },
      "execution_count": 31,
      "outputs": [
        {
          "output_type": "execute_result",
          "data": {
            "text/plain": [
              "Index(['year', 'exp_level', 'emp_type', 'job_title', 'salary', 'salary_curr',\n",
              "       'salary_in_usd', 'emp_location', 'remote_ratio', 'company_location',\n",
              "       'company_size'],\n",
              "      dtype='object')"
            ]
          },
          "metadata": {},
          "execution_count": 31
        }
      ]
    },
    {
      "cell_type": "code",
      "source": [
        "query = \"\"\"\n",
        "SELECT *\n",
        "FROM df\n",
        "WHERE\n",
        "    company_location = 'UA'\n",
        "    AND remote_ratio = 100\n",
        "\n",
        "\"\"\"\n",
        "\n",
        "result = psql.sqldf(query)\n",
        "print(result)"
      ],
      "metadata": {
        "colab": {
          "base_uri": "https://localhost:8080/"
        },
        "id": "QIBg8Xd85gYI",
        "outputId": "f078a594-f99b-45a0-d7c2-8eff4335d78b"
      },
      "execution_count": 32,
      "outputs": [
        {
          "output_type": "stream",
          "name": "stdout",
          "text": [
            "   year exp_level emp_type       job_title  salary salary_curr  salary_in_usd  \\\n",
            "0  2021        EN       FT  Data Scientist   13400         USD          13400   \n",
            "\n",
            "  emp_location  remote_ratio company_location company_size  \n",
            "0           UA           100               UA            L  \n"
          ]
        }
      ]
    },
    {
      "cell_type": "markdown",
      "source": [
        "4. Вивести всіх співробітників, які в 2023 році працюючи в Німеччині (company_location = 'DE') отримували з/п більшу за $100тис."
      ],
      "metadata": {
        "id": "B38xZVBu6Xjx"
      }
    },
    {
      "cell_type": "code",
      "source": [
        "query = \"\"\"\n",
        "SELECT *\n",
        "FROM df\n",
        "WHERE\n",
        "    company_location = 'DE'\n",
        "    AND salary_in_usd >= 100000\n",
        "    AND year = 2023\n",
        "\"\"\"\n",
        "\n",
        "result = psql.sqldf(query)\n",
        "print(result)"
      ],
      "metadata": {
        "colab": {
          "base_uri": "https://localhost:8080/"
        },
        "id": "xq2GSHy45gVp",
        "outputId": "3c58ba17-3571-4ab3-db2c-f1dd68e2232d"
      },
      "execution_count": 33,
      "outputs": [
        {
          "output_type": "stream",
          "name": "stdout",
          "text": [
            "   year exp_level emp_type                  job_title  salary salary_curr  \\\n",
            "0  2023        SE       FT          Research Engineer  275000         USD   \n",
            "1  2023        SE       FT          Research Engineer  174000         USD   \n",
            "2  2023        SE       FT   Deep Learning Researcher  115000         EUR   \n",
            "3  2023        EN       FT               AI Developer  200000         EUR   \n",
            "4  2023        SE       FT          Research Engineer  100000         EUR   \n",
            "5  2023        SE       FT  Machine Learning Engineer  275000         USD   \n",
            "6  2023        SE       FT  Machine Learning Engineer  174000         USD   \n",
            "\n",
            "   salary_in_usd emp_location  remote_ratio company_location company_size  \n",
            "0         275000           DE             0               DE            M  \n",
            "1         174000           DE             0               DE            M  \n",
            "2         123405           DE             0               DE            L  \n",
            "3         214618           DE           100               DE            L  \n",
            "4         107309           DE           100               DE            S  \n",
            "5         275000           DE             0               DE            M  \n",
            "6         174000           DE             0               DE            M  \n"
          ]
        }
      ]
    },
    {
      "cell_type": "markdown",
      "source": [
        "5. Доопрацювати попередній запит: Вивести з результатів тільки ТОП 5 співробітників за рівнем з/п."
      ],
      "metadata": {
        "id": "cAUH-v7x6qDm"
      }
    },
    {
      "cell_type": "code",
      "source": [
        "query = \"\"\"\n",
        "SELECT *\n",
        "FROM df\n",
        "WHERE\n",
        "    company_location = 'DE'\n",
        "    AND salary_in_usd >= 100000\n",
        "    AND year = 2023\n",
        "ORDER BY salary_in_usd DESC\n",
        "LIMIT 5\n",
        "\"\"\"\n",
        "\n",
        "result = psql.sqldf(query)\n",
        "print(result)"
      ],
      "metadata": {
        "colab": {
          "base_uri": "https://localhost:8080/"
        },
        "id": "QRzg_Z4f6WgS",
        "outputId": "86e7b4af-92cc-43b3-f513-e2d573a4fdfe"
      },
      "execution_count": 34,
      "outputs": [
        {
          "output_type": "stream",
          "name": "stdout",
          "text": [
            "   year exp_level emp_type                  job_title  salary salary_curr  \\\n",
            "0  2023        SE       FT          Research Engineer  275000         USD   \n",
            "1  2023        SE       FT  Machine Learning Engineer  275000         USD   \n",
            "2  2023        EN       FT               AI Developer  200000         EUR   \n",
            "3  2023        SE       FT          Research Engineer  174000         USD   \n",
            "4  2023        SE       FT  Machine Learning Engineer  174000         USD   \n",
            "\n",
            "   salary_in_usd emp_location  remote_ratio company_location company_size  \n",
            "0         275000           DE             0               DE            M  \n",
            "1         275000           DE             0               DE            M  \n",
            "2         214618           DE           100               DE            L  \n",
            "3         174000           DE             0               DE            M  \n",
            "4         174000           DE             0               DE            M  \n"
          ]
        }
      ]
    },
    {
      "cell_type": "markdown",
      "source": [
        "\n",
        "6. Додати в попередню таблицю окрім спеціалістів з Німеччини спеціалістів з Канади (CA)."
      ],
      "metadata": {
        "id": "GAhrlg7q63P2"
      }
    },
    {
      "cell_type": "code",
      "source": [
        "query = \"\"\"\n",
        "SELECT *\n",
        "FROM df\n",
        "WHERE\n",
        "    company_location IN ('DE','CA')\n",
        "    AND salary_in_usd >= 100000\n",
        "    AND year = 2023\n",
        "ORDER BY salary_in_usd DESC\n",
        "LIMIT 5\n",
        "\"\"\"\n",
        "\n",
        "result = psql.sqldf(query)\n",
        "print(result)"
      ],
      "metadata": {
        "colab": {
          "base_uri": "https://localhost:8080/"
        },
        "id": "-Gib0CZL62vB",
        "outputId": "0e1be02d-e9e9-410e-8e45-179a64bfe7ab"
      },
      "execution_count": 35,
      "outputs": [
        {
          "output_type": "stream",
          "name": "stdout",
          "text": [
            "   year exp_level emp_type                  job_title  salary salary_curr  \\\n",
            "0  2023        SE       FT          Research Engineer  275000         USD   \n",
            "1  2023        SE       FT  Machine Learning Engineer  275000         USD   \n",
            "2  2023        SE       FT  Machine Learning Engineer  269000         USD   \n",
            "3  2023        SE       FT                ML Engineer  260000         USD   \n",
            "4  2023        SE       FT             Data Scientist  258000         USD   \n",
            "\n",
            "   salary_in_usd emp_location  remote_ratio company_location company_size  \n",
            "0         275000           DE             0               DE            M  \n",
            "1         275000           DE             0               DE            M  \n",
            "2         269000           CA           100               CA            M  \n",
            "3         260000           CA           100               CA            M  \n",
            "4         258000           CA             0               CA            M  \n"
          ]
        }
      ]
    },
    {
      "cell_type": "markdown",
      "source": [
        "7. Надати перелік країн, в яких в 2021 році спеціалісти \"ML Engineer\" та \"Data Scientist\" отримувати з/п в діапазоні між $50тис і $100тис."
      ],
      "metadata": {
        "id": "UdJIIPIa7Og5"
      }
    },
    {
      "cell_type": "code",
      "source": [
        "query = \"\"\"\n",
        "SELECT  DISTINCT company_location\n",
        "FROM df\n",
        "WHERE\n",
        "    job_title IN ('ML Engineer','Data Scientist')\n",
        "    AND salary_in_usd BETWEEN 50000 AND 100000\n",
        "    AND year = 2021\n",
        "\"\"\"\n",
        "\n",
        "result = psql.sqldf(query)\n",
        "print(result)"
      ],
      "metadata": {
        "colab": {
          "base_uri": "https://localhost:8080/"
        },
        "id": "ZELeArVA7eNv",
        "outputId": "ddeef00b-aa52-4bd4-f3a3-e7a6f78dc13b"
      },
      "execution_count": 36,
      "outputs": [
        {
          "output_type": "stream",
          "name": "stdout",
          "text": [
            "  company_location\n",
            "0               IN\n",
            "1               US\n",
            "2               JP\n",
            "3               CA\n",
            "4               NG\n",
            "5               FR\n",
            "6               DE\n",
            "7               AT\n",
            "8               GB\n"
          ]
        }
      ]
    },
    {
      "cell_type": "markdown",
      "source": [
        "8. Порахувати кількість спеціалістів, які працюючи в середніх компаніях (company_size = M) та в великих компаніях\n",
        "(company_size = L) працювали віддалено  (remote_ratio=100 або remote_ratio=50)."
      ],
      "metadata": {
        "id": "xhhm6sSk7d9H"
      }
    },
    {
      "cell_type": "code",
      "source": [
        "query = \"\"\"\n",
        "SELECT  DISTINCT company_location\n",
        "FROM df\n",
        "WHERE\n",
        "    job_title IN ('ML Engineer','Data Scientist')\n",
        "    AND salary_in_usd BETWEEN 50000 AND 100000\n",
        "    AND year = 2021\n",
        "\"\"\"\n",
        "\n",
        "result = psql.sqldf(query)\n",
        "print(result)"
      ],
      "metadata": {
        "id": "Utfb4Qky8TvN",
        "colab": {
          "base_uri": "https://localhost:8080/"
        },
        "outputId": "a4e55a40-f34e-42b1-9adb-9b66c55f9925"
      },
      "execution_count": 37,
      "outputs": [
        {
          "output_type": "stream",
          "name": "stdout",
          "text": [
            "  company_location\n",
            "0               IN\n",
            "1               US\n",
            "2               JP\n",
            "3               CA\n",
            "4               NG\n",
            "5               FR\n",
            "6               DE\n",
            "7               AT\n",
            "8               GB\n"
          ]
        }
      ]
    },
    {
      "cell_type": "markdown",
      "source": [
        "9. Вивести кількість країн, які починаються на \"С\"."
      ],
      "metadata": {
        "id": "SDjyQSCUffvL"
      }
    },
    {
      "cell_type": "code",
      "source": [
        "query = \"\"\"\n",
        "SELECT COUNT(DISTINCT company_location)\n",
        "FROM df\n",
        "WHERE\n",
        "    company_location LIKE (\"C%\")\n",
        "\"\"\"\n",
        "\n",
        "result = psql.sqldf(query)\n",
        "print(result)"
      ],
      "metadata": {
        "colab": {
          "base_uri": "https://localhost:8080/"
        },
        "id": "H4nwuPwAfhAH",
        "outputId": "50f6d4c7-26b6-49e3-ac34-8f02d01318ce"
      },
      "execution_count": 38,
      "outputs": [
        {
          "output_type": "stream",
          "name": "stdout",
          "text": [
            "   COUNT(DISTINCT company_location)\n",
            "0                                 8\n"
          ]
        }
      ]
    },
    {
      "cell_type": "markdown",
      "source": [
        "10. Вивести професії, назва яких не складається з трьох слів."
      ],
      "metadata": {
        "id": "T7maHfmhgimB"
      }
    },
    {
      "cell_type": "code",
      "source": [
        "query = \"\"\"\n",
        "SELECT DISTINCT job_title\n",
        "FROM df\n",
        "WHERE LENGTH (TRIM(job_title)) - LENGTH(TRIM(REPLACE(job_title,' ',''))) != 2\n",
        "\"\"\"\n",
        "\n",
        "result = psql.sqldf(query)\n",
        "print(result)"
      ],
      "metadata": {
        "colab": {
          "base_uri": "https://localhost:8080/"
        },
        "id": "zAoca5rVgrhg",
        "outputId": "11aa79bf-6b70-4c40-a5ab-b5aeb23eaa71"
      },
      "execution_count": 39,
      "outputs": [
        {
          "output_type": "stream",
          "name": "stdout",
          "text": [
            "                                   job_title\n",
            "0                                ML Engineer\n",
            "1                             Data Scientist\n",
            "2                          Applied Scientist\n",
            "3                               Data Analyst\n",
            "4                               Data Modeler\n",
            "5                          Research Engineer\n",
            "6                         Analytics Engineer\n",
            "7                            Data Strategist\n",
            "8                              Data Engineer\n",
            "9                             Data Architect\n",
            "10         Applied Machine Learning Engineer\n",
            "11                              AI Developer\n",
            "12                        Research Scientist\n",
            "13                              ETL Engineer\n",
            "14                              Data Manager\n",
            "15                           Data Specialist\n",
            "16                  Director of Data Science\n",
            "17                            MLOps Engineer\n",
            "18                              AI Scientist\n",
            "19        Applied Machine Learning Scientist\n",
            "20                             AI Programmer\n",
            "21                              BI Developer\n",
            "22                                BI Analyst\n",
            "23  Machine Learning Infrastructure Engineer\n",
            "24                      Head of Data Science\n",
            "25                           Insight Analyst\n",
            "26        Machine Learning Software Engineer\n",
            "27         Computer Vision Software Engineer\n",
            "28                                 Data Lead\n",
            "29        Machine Learning Research Engineer\n",
            "30                              NLP Engineer\n",
            "31             3D Computer Vision Researcher\n",
            "32       Principal Machine Learning Engineer\n",
            "33                    Data Science Tech Lead\n",
            "34            Lead Machine Learning Engineer\n",
            "35                             ETL Developer\n",
            "36                  Head of Machine Learning\n"
          ]
        }
      ]
    },
    {
      "cell_type": "markdown",
      "source": [
        "# **Lessons 8 - Групування та агрегація даних в SQL з використанням GROUP BY**"
      ],
      "metadata": {
        "id": "9D-QHZaiKUDS"
      }
    },
    {
      "cell_type": "markdown",
      "source": [
        "Для кожної професії та відповідного рівня досвіду навести:\n",
        "\n",
        "- кількість в таблиці\n",
        "- середню заробітну плату"
      ],
      "metadata": {
        "id": "A0nbrWCONeu7"
      }
    },
    {
      "cell_type": "code",
      "source": [
        "query = \"\"\"\n",
        "SELECT\n",
        "      job_title\n",
        "      , exp_level\n",
        "      , COUNT(*) AS job_nmb\n",
        "      , ROUND(AVG (salary_in_usd),2) AS salary\n",
        "FROM df\n",
        "--WHERE year = 2023\n",
        "GROUP BY job_title\n",
        "      , exp_level\n",
        "ORDER BY 1, 2;\n",
        "\"\"\"\n",
        "\n",
        "result = psql.sqldf(query)\n",
        "print(result)"
      ],
      "metadata": {
        "colab": {
          "base_uri": "https://localhost:8080/"
        },
        "id": "Ml4VVuyJKXaT",
        "outputId": "da30a447-305f-4585-e291-986da2f820d1"
      },
      "execution_count": 40,
      "outputs": [
        {
          "output_type": "stream",
          "name": "stdout",
          "text": [
            "                         job_title exp_level  job_nmb     salary\n",
            "0    3D Computer Vision Researcher        EN        2   35000.00\n",
            "1    3D Computer Vision Researcher        MI        1    5409.00\n",
            "2    3D Computer Vision Researcher        SE        1   10000.00\n",
            "3                     AI Developer        EN        6  130884.50\n",
            "4                     AI Developer        MI        2  137510.00\n",
            "..                             ...       ...      ...        ...\n",
            "187             Research Scientist        SE       49  179892.98\n",
            "188         Software Data Engineer        MI        1   75020.00\n",
            "189         Software Data Engineer        SE        1   50000.00\n",
            "190             Staff Data Analyst        EX        1   15000.00\n",
            "191           Staff Data Scientist        SE        1  105000.00\n",
            "\n",
            "[192 rows x 4 columns]\n"
          ]
        }
      ]
    },
    {
      "cell_type": "markdown",
      "source": [
        "Для професій, зо зустрічаються лише 1 (або 2) раз, навести заробітну плату\n"
      ],
      "metadata": {
        "id": "z3PgoIGHOJ1z"
      }
    },
    {
      "cell_type": "code",
      "source": [
        "query = \"\"\"\n",
        "SELECT\n",
        "      job_title\n",
        "      , COUNT(*) AS job_nmb\n",
        "      , ROUND(AVG (salary_in_usd),2) AS salary\n",
        "FROM df\n",
        "WHERE year = 2023\n",
        "GROUP BY job_title\n",
        "ORDER BY 2, 3\n",
        "\"\"\"\n",
        "\n",
        "result = psql.sqldf(query)\n",
        "print(result)"
      ],
      "metadata": {
        "colab": {
          "base_uri": "https://localhost:8080/"
        },
        "id": "IewUGW6ZOLN7",
        "outputId": "dbe559d9-bfdd-4a57-a3b8-525b83da9e82"
      },
      "execution_count": 41,
      "outputs": [
        {
          "output_type": "stream",
          "name": "stdout",
          "text": [
            "                        job_title  job_nmb     salary\n",
            "0   Autonomous Vehicle Technician        1    7000.00\n",
            "1            Product Data Analyst        1   16414.00\n",
            "2             Data Analytics Lead        1   17509.00\n",
            "3         Compliance Data Analyst        1   30000.00\n",
            "4     Machine Learning Researcher        1   50000.00\n",
            "..                            ...      ...        ...\n",
            "60             Research Scientist       55  177539.95\n",
            "61      Machine Learning Engineer      158  167759.80\n",
            "62                   Data Analyst      307  114097.48\n",
            "63                 Data Scientist      370  156812.12\n",
            "64                  Data Engineer      499  151647.29\n",
            "\n",
            "[65 rows x 3 columns]\n"
          ]
        }
      ]
    },
    {
      "cell_type": "markdown",
      "source": [
        "Як змінювалась мінімальна заробітна плата за останні 4 роки?"
      ],
      "metadata": {
        "id": "pOm0Xjh2RZNQ"
      }
    },
    {
      "cell_type": "code",
      "source": [
        "query = \"\"\"\n",
        "SELECT\n",
        "      year\n",
        "      , MIN(salary_in_usd)\n",
        "FROM df\n",
        "GROUP BY year\n",
        "ORDER BY year DESC\n",
        "\"\"\"\n",
        "\n",
        "result = psql.sqldf(query)\n",
        "print(result)"
      ],
      "metadata": {
        "colab": {
          "base_uri": "https://localhost:8080/"
        },
        "id": "OIM0iugpPA5V",
        "outputId": "fd4372b3-67f3-4dc1-e544-c4a2771c895e"
      },
      "execution_count": 42,
      "outputs": [
        {
          "output_type": "stream",
          "name": "stdout",
          "text": [
            "   year  MIN(salary_in_usd)\n",
            "0  2023                7000\n",
            "1  2022                5132\n",
            "2  2021                5409\n",
            "3  2020                5707\n"
          ]
        }
      ]
    },
    {
      "cell_type": "markdown",
      "source": [
        "# Lesson 9. ТОП 5 задач SQL для співбесіди - вкладені запити"
      ],
      "metadata": {
        "id": "Hjrtqfpdls1n"
      }
    },
    {
      "cell_type": "markdown",
      "source": [
        "ЗАДАЧА 1\n",
        "Вивести всіх спеціалістів, в яких з/п вище середньої в таблиці"
      ],
      "metadata": {
        "id": "PJn67cROlsY5"
      }
    },
    {
      "cell_type": "code",
      "source": [
        "query = \"\"\"\n",
        "SELECT job_title\n",
        "      , salary_in_usd\n",
        "FROM df\n",
        "WHERE salary_in_usd>\n",
        "(\n",
        "      SELECT AVG(salary_in_usd)\n",
        "      FROM df\n",
        "      WHERE year = 2023\n",
        ")\n",
        "\"\"\"\n",
        "\n",
        "result = psql.sqldf(query)\n",
        "print(result)"
      ],
      "metadata": {
        "colab": {
          "base_uri": "https://localhost:8080/"
        },
        "id": "4hOcqXSIlwGz",
        "outputId": "fc481d7d-3039-4e9a-a0a4-683e101d6f78"
      },
      "execution_count": 43,
      "outputs": [
        {
          "output_type": "stream",
          "name": "stdout",
          "text": [
            "                               job_title  salary_in_usd\n",
            "0                         Data Scientist         175000\n",
            "1                      Applied Scientist         222200\n",
            "2                         Data Scientist         219000\n",
            "3                      Applied Scientist         213660\n",
            "4                         Data Scientist         170000\n",
            "...                                  ...            ...\n",
            "1505            Director of Data Science         168000\n",
            "1506  Applied Machine Learning Scientist         423000\n",
            "1507                     Data Specialist         165000\n",
            "1508                      Data Scientist         412000\n",
            "1509            Principal Data Scientist         151000\n",
            "\n",
            "[1510 rows x 2 columns]\n"
          ]
        }
      ]
    },
    {
      "cell_type": "markdown",
      "source": [
        "ЗАДАЧА 2\n",
        "Вивести всіх спеціалістів, які живуть в країнах, де середня з/п вища за середню серед усіх країн."
      ],
      "metadata": {
        "id": "G10qoSixoEpK"
      }
    },
    {
      "cell_type": "markdown",
      "source": [
        "--1. Пошук середньої з/п\n",
        "\n",
        "--2. По кожній країні - середня з/п\n",
        "\n",
        "--3. Порівнюємо, виводимо передік країн\n",
        "\n",
        "--4. Спеціалісти, що проживають в цих країнах\n"
      ],
      "metadata": {
        "id": "Lbkq-jIXNRgb"
      }
    },
    {
      "cell_type": "code",
      "source": [
        "query = \"\"\"\n",
        "SELECT AVG(salary_in_usd)\n",
        "FROM df\n",
        "\"\"\"\n",
        "result = psql.sqldf(query)\n",
        "print(result)"
      ],
      "metadata": {
        "id": "VXS9BshX17q1",
        "colab": {
          "base_uri": "https://localhost:8080/"
        },
        "outputId": "5ce1c603-aeee-4b77-d76d-1f1a58c75d7d"
      },
      "execution_count": 48,
      "outputs": [
        {
          "output_type": "stream",
          "name": "stdout",
          "text": [
            "   AVG(salary_in_usd)\n",
            "0        137570.38988\n"
          ]
        }
      ]
    },
    {
      "cell_type": "code",
      "source": [
        "query = \"\"\"\n",
        "SELECT\n",
        "\tcompany_location\n",
        "FROM df\n",
        "WHERE year = 2023\n",
        "GROUP BY 1\n",
        "HAVING AVG(salary_in_usd) >\n",
        "(\n",
        "\tSELECT AVG(salary_in_usd)\n",
        "\tFROM df\n",
        "\tWHERE year = 2023\n",
        ")\n",
        "\"\"\"\n",
        "\n",
        "result = psql.sqldf(query)\n",
        "print(result)"
      ],
      "metadata": {
        "id": "olW2Qpcy1444",
        "colab": {
          "base_uri": "https://localhost:8080/"
        },
        "outputId": "0fc8e367-8041-4ce5-8868-ec7741c2e831"
      },
      "execution_count": 50,
      "outputs": [
        {
          "output_type": "stream",
          "name": "stdout",
          "text": [
            "  company_location\n",
            "0               IL\n",
            "1               US\n"
          ]
        }
      ]
    },
    {
      "cell_type": "code",
      "source": [
        "query = \"\"\"\n",
        "SELECT *\n",
        "FROM df\n",
        "WHERE emp_location IN\n",
        "(\n",
        "\tSELECT\n",
        "\tcompany_location\n",
        "FROM df\n",
        "WHERE year = 2023\n",
        "GROUP BY 1\n",
        "HAVING AVG(salary_in_usd) >\n",
        "(\n",
        "\tSELECT AVG(salary_in_usd)\n",
        "\tFROM df\n",
        "\tWHERE year = 2023\n",
        ")\n",
        ")\n",
        "\"\"\"\n",
        "result = psql.sqldf(query)\n",
        "print(result)"
      ],
      "metadata": {
        "colab": {
          "base_uri": "https://localhost:8080/"
        },
        "id": "fosfYgiso8pM",
        "outputId": "fd1d70bd-e25a-4357-9041-7c4f9bc46ca8"
      },
      "execution_count": 52,
      "outputs": [
        {
          "output_type": "stream",
          "name": "stdout",
          "text": [
            "      year exp_level emp_type                 job_title  salary salary_curr  \\\n",
            "0     2023        MI       CT               ML Engineer   30000         USD   \n",
            "1     2023        MI       CT               ML Engineer   25500         USD   \n",
            "2     2023        SE       FT         Applied Scientist  222200         USD   \n",
            "3     2023        SE       FT         Applied Scientist  136000         USD   \n",
            "4     2023        SE       FT            Data Scientist  147100         USD   \n",
            "...    ...       ...      ...                       ...     ...         ...   \n",
            "3000  2021        SE       FT           Data Specialist  165000         USD   \n",
            "3001  2020        SE       FT            Data Scientist  412000         USD   \n",
            "3002  2021        MI       FT  Principal Data Scientist  151000         USD   \n",
            "3003  2020        EN       FT            Data Scientist  105000         USD   \n",
            "3004  2020        EN       CT     Business Data Analyst  100000         USD   \n",
            "\n",
            "      salary_in_usd emp_location  remote_ratio company_location company_size  \n",
            "0             30000           US           100               US            S  \n",
            "1             25500           US           100               US            S  \n",
            "2            222200           US             0               US            L  \n",
            "3            136000           US             0               US            L  \n",
            "4            147100           US             0               US            M  \n",
            "...             ...          ...           ...              ...          ...  \n",
            "3000         165000           US           100               US            L  \n",
            "3001         412000           US           100               US            L  \n",
            "3002         151000           US           100               US            L  \n",
            "3003         105000           US           100               US            S  \n",
            "3004         100000           US           100               US            L  \n",
            "\n",
            "[3005 rows x 11 columns]\n"
          ]
        }
      ]
    },
    {
      "cell_type": "markdown",
      "source": [
        "**ЗАДАЧА 3. Знайти мінімальну заробітну плату серед максимальних з/п по країнах**"
      ],
      "metadata": {
        "id": "7XAJJdkz33eF"
      }
    },
    {
      "cell_type": "code",
      "source": [
        "query = \"\"\"\n",
        "SELECT MIN(t.max_salary)\n",
        "FROM (\n",
        "\t\tSELECT\n",
        "\t\t\tcompany_location\n",
        "\t\t\t, MAX (Salary_in_usd) as max_salary\n",
        "\t\tFROM df\n",
        "\t\tWHERE year=2023\n",
        "\t\tGROUP BY 1\n",
        ") as t\n",
        "\"\"\"\n",
        "result = psql.sqldf(query)\n",
        "print(result)"
      ],
      "metadata": {
        "id": "DybXRgi61vli",
        "colab": {
          "base_uri": "https://localhost:8080/"
        },
        "outputId": "65cbdd02-1a08-4533-b5d1-a7c4163f0790"
      },
      "execution_count": 54,
      "outputs": [
        {
          "output_type": "stream",
          "name": "stdout",
          "text": [
            "   MIN(t.max_salary)\n",
            "0               7000\n"
          ]
        }
      ]
    },
    {
      "cell_type": "code",
      "source": [
        "query = \"\"\"\n",
        "\n",
        "SELECT\n",
        "\tcompany_location\n",
        "\t, MAX (Salary_in_usd) as max_salary\n",
        "FROM df\n",
        "WHERE year=2023\n",
        "GROUP BY 1\n",
        "ORDER BY 2 ASC\n",
        "LIMIT 1\n",
        "\"\"\"\n",
        "result = psql.sqldf(query)\n",
        "print(result)"
      ],
      "metadata": {
        "colab": {
          "base_uri": "https://localhost:8080/"
        },
        "id": "vtBoi_Ix4YYq",
        "outputId": "52120b7a-bf3d-4f5d-c9ea-5d4cebfed23c"
      },
      "execution_count": 58,
      "outputs": [
        {
          "output_type": "stream",
          "name": "stdout",
          "text": [
            "  company_location  max_salary\n",
            "0               GH        7000\n"
          ]
        }
      ]
    }
  ]
}